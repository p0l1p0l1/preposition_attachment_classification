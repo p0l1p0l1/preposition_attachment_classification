{
  "nbformat": 4,
  "nbformat_minor": 0,
  "metadata": {
    "colab": {
      "provenance": [],
      "collapsed_sections": [
        "ZEHsHqnBEnM0",
        "MRYNWqK-Gu3F",
        "vyls_Vs7MxYj"
      ]
    },
    "kernelspec": {
      "name": "python3",
      "display_name": "Python 3"
    },
    "widgets": {
      "application/vnd.jupyter.widget-state+json": {
        "b78fe16df34345e9899640ee4477769e": {
          "model_module": "@jupyter-widgets/controls",
          "model_name": "HBoxModel",
          "model_module_version": "1.5.0",
          "state": {
            "_dom_classes": [],
            "_model_module": "@jupyter-widgets/controls",
            "_model_module_version": "1.5.0",
            "_model_name": "HBoxModel",
            "_view_count": null,
            "_view_module": "@jupyter-widgets/controls",
            "_view_module_version": "1.5.0",
            "_view_name": "HBoxView",
            "box_style": "",
            "children": [
              "IPY_MODEL_fa8cf74272c044c58624d95297acf142",
              "IPY_MODEL_dbffd11e83ae4eb5adfb4b1bc8db1099",
              "IPY_MODEL_36a3ca736db64ca48a86868c95a9fe1b"
            ],
            "layout": "IPY_MODEL_6f18aad634bf43258c858a1c34b24d17"
          }
        },
        "fa8cf74272c044c58624d95297acf142": {
          "model_module": "@jupyter-widgets/controls",
          "model_name": "HTMLModel",
          "model_module_version": "1.5.0",
          "state": {
            "_dom_classes": [],
            "_model_module": "@jupyter-widgets/controls",
            "_model_module_version": "1.5.0",
            "_model_name": "HTMLModel",
            "_view_count": null,
            "_view_module": "@jupyter-widgets/controls",
            "_view_module_version": "1.5.0",
            "_view_name": "HTMLView",
            "description": "",
            "description_tooltip": null,
            "layout": "IPY_MODEL_da6f08463b7041d1b41b80419c91bdea",
            "placeholder": "​",
            "style": "IPY_MODEL_087649fe1d644f21a3c898f7e7620479",
            "value": ""
          }
        },
        "dbffd11e83ae4eb5adfb4b1bc8db1099": {
          "model_module": "@jupyter-widgets/controls",
          "model_name": "FloatProgressModel",
          "model_module_version": "1.5.0",
          "state": {
            "_dom_classes": [],
            "_model_module": "@jupyter-widgets/controls",
            "_model_module_version": "1.5.0",
            "_model_name": "FloatProgressModel",
            "_view_count": null,
            "_view_module": "@jupyter-widgets/controls",
            "_view_module_version": "1.5.0",
            "_view_name": "ProgressView",
            "bar_style": "success",
            "description": "",
            "description_tooltip": null,
            "layout": "IPY_MODEL_1b0444003609446dbc3d1e13feb3e9f1",
            "max": 1,
            "min": 0,
            "orientation": "horizontal",
            "style": "IPY_MODEL_e0e323c8a6ee4364882c262cc1f1800b",
            "value": 1
          }
        },
        "36a3ca736db64ca48a86868c95a9fe1b": {
          "model_module": "@jupyter-widgets/controls",
          "model_name": "HTMLModel",
          "model_module_version": "1.5.0",
          "state": {
            "_dom_classes": [],
            "_model_module": "@jupyter-widgets/controls",
            "_model_module_version": "1.5.0",
            "_model_name": "HTMLModel",
            "_view_count": null,
            "_view_module": "@jupyter-widgets/controls",
            "_view_module_version": "1.5.0",
            "_view_name": "HTMLView",
            "description": "",
            "description_tooltip": null,
            "layout": "IPY_MODEL_48e9e1af8cd340b688a7d7b73c0b15d5",
            "placeholder": "​",
            "style": "IPY_MODEL_baef5361e4904d1cb06c71b9704c7ac9",
            "value": " 25858/? [00:00&lt;00:00, 78714.09it/s]"
          }
        },
        "6f18aad634bf43258c858a1c34b24d17": {
          "model_module": "@jupyter-widgets/base",
          "model_name": "LayoutModel",
          "model_module_version": "1.2.0",
          "state": {
            "_model_module": "@jupyter-widgets/base",
            "_model_module_version": "1.2.0",
            "_model_name": "LayoutModel",
            "_view_count": null,
            "_view_module": "@jupyter-widgets/base",
            "_view_module_version": "1.2.0",
            "_view_name": "LayoutView",
            "align_content": null,
            "align_items": null,
            "align_self": null,
            "border": null,
            "bottom": null,
            "display": null,
            "flex": null,
            "flex_flow": null,
            "grid_area": null,
            "grid_auto_columns": null,
            "grid_auto_flow": null,
            "grid_auto_rows": null,
            "grid_column": null,
            "grid_gap": null,
            "grid_row": null,
            "grid_template_areas": null,
            "grid_template_columns": null,
            "grid_template_rows": null,
            "height": null,
            "justify_content": null,
            "justify_items": null,
            "left": null,
            "margin": null,
            "max_height": null,
            "max_width": null,
            "min_height": null,
            "min_width": null,
            "object_fit": null,
            "object_position": null,
            "order": null,
            "overflow": null,
            "overflow_x": null,
            "overflow_y": null,
            "padding": null,
            "right": null,
            "top": null,
            "visibility": null,
            "width": null
          }
        },
        "da6f08463b7041d1b41b80419c91bdea": {
          "model_module": "@jupyter-widgets/base",
          "model_name": "LayoutModel",
          "model_module_version": "1.2.0",
          "state": {
            "_model_module": "@jupyter-widgets/base",
            "_model_module_version": "1.2.0",
            "_model_name": "LayoutModel",
            "_view_count": null,
            "_view_module": "@jupyter-widgets/base",
            "_view_module_version": "1.2.0",
            "_view_name": "LayoutView",
            "align_content": null,
            "align_items": null,
            "align_self": null,
            "border": null,
            "bottom": null,
            "display": null,
            "flex": null,
            "flex_flow": null,
            "grid_area": null,
            "grid_auto_columns": null,
            "grid_auto_flow": null,
            "grid_auto_rows": null,
            "grid_column": null,
            "grid_gap": null,
            "grid_row": null,
            "grid_template_areas": null,
            "grid_template_columns": null,
            "grid_template_rows": null,
            "height": null,
            "justify_content": null,
            "justify_items": null,
            "left": null,
            "margin": null,
            "max_height": null,
            "max_width": null,
            "min_height": null,
            "min_width": null,
            "object_fit": null,
            "object_position": null,
            "order": null,
            "overflow": null,
            "overflow_x": null,
            "overflow_y": null,
            "padding": null,
            "right": null,
            "top": null,
            "visibility": null,
            "width": null
          }
        },
        "087649fe1d644f21a3c898f7e7620479": {
          "model_module": "@jupyter-widgets/controls",
          "model_name": "DescriptionStyleModel",
          "model_module_version": "1.5.0",
          "state": {
            "_model_module": "@jupyter-widgets/controls",
            "_model_module_version": "1.5.0",
            "_model_name": "DescriptionStyleModel",
            "_view_count": null,
            "_view_module": "@jupyter-widgets/base",
            "_view_module_version": "1.2.0",
            "_view_name": "StyleView",
            "description_width": ""
          }
        },
        "1b0444003609446dbc3d1e13feb3e9f1": {
          "model_module": "@jupyter-widgets/base",
          "model_name": "LayoutModel",
          "model_module_version": "1.2.0",
          "state": {
            "_model_module": "@jupyter-widgets/base",
            "_model_module_version": "1.2.0",
            "_model_name": "LayoutModel",
            "_view_count": null,
            "_view_module": "@jupyter-widgets/base",
            "_view_module_version": "1.2.0",
            "_view_name": "LayoutView",
            "align_content": null,
            "align_items": null,
            "align_self": null,
            "border": null,
            "bottom": null,
            "display": null,
            "flex": null,
            "flex_flow": null,
            "grid_area": null,
            "grid_auto_columns": null,
            "grid_auto_flow": null,
            "grid_auto_rows": null,
            "grid_column": null,
            "grid_gap": null,
            "grid_row": null,
            "grid_template_areas": null,
            "grid_template_columns": null,
            "grid_template_rows": null,
            "height": null,
            "justify_content": null,
            "justify_items": null,
            "left": null,
            "margin": null,
            "max_height": null,
            "max_width": null,
            "min_height": null,
            "min_width": null,
            "object_fit": null,
            "object_position": null,
            "order": null,
            "overflow": null,
            "overflow_x": null,
            "overflow_y": null,
            "padding": null,
            "right": null,
            "top": null,
            "visibility": null,
            "width": "20px"
          }
        },
        "e0e323c8a6ee4364882c262cc1f1800b": {
          "model_module": "@jupyter-widgets/controls",
          "model_name": "ProgressStyleModel",
          "model_module_version": "1.5.0",
          "state": {
            "_model_module": "@jupyter-widgets/controls",
            "_model_module_version": "1.5.0",
            "_model_name": "ProgressStyleModel",
            "_view_count": null,
            "_view_module": "@jupyter-widgets/base",
            "_view_module_version": "1.2.0",
            "_view_name": "StyleView",
            "bar_color": null,
            "description_width": ""
          }
        },
        "48e9e1af8cd340b688a7d7b73c0b15d5": {
          "model_module": "@jupyter-widgets/base",
          "model_name": "LayoutModel",
          "model_module_version": "1.2.0",
          "state": {
            "_model_module": "@jupyter-widgets/base",
            "_model_module_version": "1.2.0",
            "_model_name": "LayoutModel",
            "_view_count": null,
            "_view_module": "@jupyter-widgets/base",
            "_view_module_version": "1.2.0",
            "_view_name": "LayoutView",
            "align_content": null,
            "align_items": null,
            "align_self": null,
            "border": null,
            "bottom": null,
            "display": null,
            "flex": null,
            "flex_flow": null,
            "grid_area": null,
            "grid_auto_columns": null,
            "grid_auto_flow": null,
            "grid_auto_rows": null,
            "grid_column": null,
            "grid_gap": null,
            "grid_row": null,
            "grid_template_areas": null,
            "grid_template_columns": null,
            "grid_template_rows": null,
            "height": null,
            "justify_content": null,
            "justify_items": null,
            "left": null,
            "margin": null,
            "max_height": null,
            "max_width": null,
            "min_height": null,
            "min_width": null,
            "object_fit": null,
            "object_position": null,
            "order": null,
            "overflow": null,
            "overflow_x": null,
            "overflow_y": null,
            "padding": null,
            "right": null,
            "top": null,
            "visibility": null,
            "width": null
          }
        },
        "baef5361e4904d1cb06c71b9704c7ac9": {
          "model_module": "@jupyter-widgets/controls",
          "model_name": "DescriptionStyleModel",
          "model_module_version": "1.5.0",
          "state": {
            "_model_module": "@jupyter-widgets/controls",
            "_model_module_version": "1.5.0",
            "_model_name": "DescriptionStyleModel",
            "_view_count": null,
            "_view_module": "@jupyter-widgets/base",
            "_view_module_version": "1.2.0",
            "_view_name": "StyleView",
            "description_width": ""
          }
        }
      }
    }
  },
  "cells": [
    {
      "cell_type": "code",
      "metadata": {
        "id": "IQeJMBC9EjQj"
      },
      "source": [
        "import csv\n",
        "\n",
        "from tqdm.notebook import tqdm\n",
        "from typing import Dict, List, Tuple\n",
        "from random import choice\n",
        "from urllib.request import urlopen\n"
      ],
      "execution_count": null,
      "outputs": []
    },
    {
      "cell_type": "code",
      "metadata": {
        "id": "f5y8hLSTDcmT"
      },
      "source": [
        "def read_pp_examples(file_url: str) -> List[Dict]:\n",
        "  \"\"\"Reads the pp samples from a remtoe url and loads them into a dictionary\n",
        "\n",
        "  Args:\n",
        "      file_url (str): a url to load the dataset from\n",
        "\n",
        "  Returns:\n",
        "      Dict: a dictionary with two keys: answer and pp\n",
        "  \"\"\"\n",
        "  pp_examples = []\n",
        "\n",
        "  for line in tqdm(urlopen(file_url)):\n",
        "    line = line.decode(\"utf-8\").strip().split()\n",
        "    assert(len(line) == 5)\n",
        "    v,n1,p,n2,answer = line\n",
        "    pp_examples.append( {'answer':answer,'keywords':(v,n1,p,n2)} )\n",
        "  return pp_examples"
      ],
      "execution_count": null,
      "outputs": []
    },
    {
      "cell_type": "code",
      "metadata": {
        "id": "_kc6IkpCDphJ"
      },
      "source": [
        "pp_samples_url = 'https://raw.githubusercontent.com/liadmagen/NLP-Course/master/dataset/pp_examples.txt'"
      ],
      "execution_count": null,
      "outputs": []
    },
    {
      "cell_type": "code",
      "metadata": {
        "id": "4i0rtj1RFkug",
        "outputId": "1a0c2ba5-7beb-4bea-d107-0a150f299ec3",
        "colab": {
          "base_uri": "https://localhost:8080/",
          "referenced_widgets": [
            "b78fe16df34345e9899640ee4477769e",
            "fa8cf74272c044c58624d95297acf142",
            "dbffd11e83ae4eb5adfb4b1bc8db1099",
            "36a3ca736db64ca48a86868c95a9fe1b",
            "6f18aad634bf43258c858a1c34b24d17",
            "da6f08463b7041d1b41b80419c91bdea",
            "087649fe1d644f21a3c898f7e7620479",
            "1b0444003609446dbc3d1e13feb3e9f1",
            "e0e323c8a6ee4364882c262cc1f1800b",
            "48e9e1af8cd340b688a7d7b73c0b15d5",
            "baef5361e4904d1cb06c71b9704c7ac9"
          ],
          "height": 49
        }
      },
      "source": [
        "pp_examples = read_pp_examples(pp_samples_url)\n"
      ],
      "execution_count": null,
      "outputs": [
        {
          "output_type": "display_data",
          "data": {
            "text/plain": [
              "0it [00:00, ?it/s]"
            ],
            "application/vnd.jupyter.widget-view+json": {
              "version_major": 2,
              "version_minor": 0,
              "model_id": "b78fe16df34345e9899640ee4477769e"
            }
          },
          "metadata": {}
        }
      ]
    },
    {
      "cell_type": "code",
      "metadata": {
        "id": "a59ypmWhGlIZ",
        "outputId": "7892c910-7324-4255-aeb0-bba5dc68d515",
        "colab": {
          "base_uri": "https://localhost:8080/"
        }
      },
      "source": [
        "print(f\"There are {len(pp_examples)} samples in the dataset\")"
      ],
      "execution_count": null,
      "outputs": [
        {
          "output_type": "stream",
          "name": "stdout",
          "text": [
            "There are 25858 samples in the dataset\n"
          ]
        }
      ]
    },
    {
      "cell_type": "code",
      "metadata": {
        "id": "_W9FOJmkG1HF",
        "outputId": "84b59ccf-2079-448f-ce81-c9218ea5651e",
        "colab": {
          "base_uri": "https://localhost:8080/"
        }
      },
      "source": [
        "print(choice(pp_examples))\n",
        "print(choice(pp_examples))\n",
        "print(choice(pp_examples))\n",
        "print(choice(pp_examples))\n",
        "print(choice(pp_examples))\n",
        "print(choice(pp_examples))\n",
        "print(choice(pp_examples))\n",
        "print(choice(pp_examples))\n",
        "print(choice(pp_examples))"
      ],
      "execution_count": null,
      "outputs": [
        {
          "output_type": "stream",
          "name": "stdout",
          "text": [
            "{'answer': 'N', 'keywords': ('opened', 'store', 'of', 'own')}\n",
            "{'answer': 'V', 'keywords': ('posted', 'increase', 'despite', 'decline')}\n",
            "{'answer': 'N', 'keywords': ('started', 'number', 'of', 'businesses')}\n",
            "{'answer': 'N', 'keywords': ('offers', 'concessions', 'by', 'KKR')}\n",
            "{'answer': 'V', 'keywords': ('were', 'sharecroppers', 'in', 'Arkansas')}\n",
            "{'answer': 'V', 'keywords': ('increase', 'speed', 'of', 'work')}\n",
            "{'answer': 'V', 'keywords': ('assimilate', 'status', 'as', 'project')}\n",
            "{'answer': 'V', 'keywords': ('fell', 'yesterday', 'to', '$')}\n",
            "{'answer': 'V', 'keywords': ('store', 'kids', 'during', 'day')}\n"
          ]
        }
      ]
    },
    {
      "cell_type": "code",
      "metadata": {
        "id": "iLCTVAyAG4Cm",
        "outputId": "dcf857cf-33b9-4c2c-83eb-ec09d7f316b0",
        "colab": {
          "base_uri": "https://localhost:8080/"
        }
      },
      "source": [
        "random_example = choice(pp_examples)\n",
        "random_example['keywords']"
      ],
      "execution_count": null,
      "outputs": [
        {
          "output_type": "execute_result",
          "data": {
            "text/plain": [
              "('opened', 'mind', 'to', 'politics')"
            ]
          },
          "metadata": {},
          "execution_count": 9
        }
      ]
    },
    {
      "cell_type": "code",
      "metadata": {
        "id": "W4tkr91VHHC0",
        "outputId": "2d754234-8439-49f5-d76e-a09349b39e5e",
        "colab": {
          "base_uri": "https://localhost:8080/",
          "height": 35
        }
      },
      "source": [
        "random_example['answer']"
      ],
      "execution_count": null,
      "outputs": [
        {
          "output_type": "execute_result",
          "data": {
            "text/plain": [
              "'V'"
            ],
            "application/vnd.google.colaboratory.intrinsic+json": {
              "type": "string"
            }
          },
          "metadata": {},
          "execution_count": 10
        }
      ]
    },
    {
      "cell_type": "code",
      "source": [
        "from sklearn.model_selection import train_test_split\n",
        "from sklearn.feature_extraction.text import CountVectorizer\n",
        "from sklearn.svm import SVC\n",
        "from sklearn.naive_bayes import MultinomialNB\n",
        "from sklearn.tree import DecisionTreeClassifier\n",
        "from sklearn.metrics import accuracy_score, precision_score, recall_score\n",
        "\n",
        "import re\n",
        "\n",
        "import nltk\n",
        "from nltk.corpus import brown\n",
        "nltk.download('brown')\n",
        "from nltk import ngrams\n",
        "\n",
        "!pip install gensim\n",
        "from gensim.models import Word2Vec\n",
        "import gensim\n",
        "import warnings\n",
        "warnings.filterwarnings(action='ignore')"
      ],
      "metadata": {
        "colab": {
          "base_uri": "https://localhost:8080/"
        },
        "id": "ElV2pHmvSrPt",
        "outputId": "a0264a96-193d-42bb-e234-e937035633f0"
      },
      "execution_count": null,
      "outputs": [
        {
          "output_type": "stream",
          "name": "stderr",
          "text": [
            "[nltk_data] Downloading package brown to /root/nltk_data...\n",
            "[nltk_data]   Package brown is already up-to-date!\n"
          ]
        },
        {
          "output_type": "stream",
          "name": "stdout",
          "text": [
            "Requirement already satisfied: gensim in /usr/local/lib/python3.10/dist-packages (4.3.2)\n",
            "Requirement already satisfied: numpy>=1.18.5 in /usr/local/lib/python3.10/dist-packages (from gensim) (1.23.5)\n",
            "Requirement already satisfied: scipy>=1.7.0 in /usr/local/lib/python3.10/dist-packages (from gensim) (1.11.4)\n",
            "Requirement already satisfied: smart-open>=1.8.1 in /usr/local/lib/python3.10/dist-packages (from gensim) (6.4.0)\n"
          ]
        }
      ]
    },
    {
      "cell_type": "code",
      "source": [
        "def scores(y_test, y_pred):\n",
        "  precision = precision_score(y_test, y_pred, pos_label=\"V\")\n",
        "  recall = recall_score(y_test, y_pred, pos_label=\"V\")\n",
        "  accuracy = accuracy_score(y_test, y_pred)\n",
        "\n",
        "  print('Precision: {} / Recall: {} / Accuracy: {}'.format(round(precision, 3), round(recall, 3), round(accuracy, 3)))"
      ],
      "metadata": {
        "id": "DOLMqxvHSQ1n"
      },
      "execution_count": null,
      "outputs": []
    },
    {
      "cell_type": "code",
      "source": [
        "data = pp_examples\n",
        "\n",
        "X = []\n",
        "y = []\n",
        "\n",
        "for instance in data:\n",
        "    keywords_str = ' '.join(instance['keywords'])\n",
        "    X.append(keywords_str)\n",
        "    y.append(instance['answer'])"
      ],
      "metadata": {
        "id": "knQl6KklSwIt"
      },
      "execution_count": null,
      "outputs": []
    },
    {
      "cell_type": "markdown",
      "source": [
        "SVC classifier without features"
      ],
      "metadata": {
        "id": "QBKGYPn1KRaR"
      }
    },
    {
      "cell_type": "code",
      "source": [
        "X_train, X_test, y_train, y_test = train_test_split(X, y, test_size=0.2, random_state=42)\n",
        "\n",
        "vectorizer = CountVectorizer(ngram_range=(1, 4))\n",
        "X_train_vec = vectorizer.fit_transform(X_train)\n",
        "X_test_vec = vectorizer.transform(X_test)\n",
        "\n",
        "classifier = SVC(kernel='linear')\n",
        "classifier.fit(X_train_vec, y_train)\n",
        "\n",
        "y_pred = classifier.predict(X_test_vec)\n",
        "\n",
        "scores(y_test, y_pred)"
      ],
      "metadata": {
        "colab": {
          "base_uri": "https://localhost:8080/"
        },
        "id": "oZ7VcWX49W6z",
        "outputId": "215ad8e9-3f79-4b6f-cfb8-0546b6ef08e7"
      },
      "execution_count": null,
      "outputs": [
        {
          "output_type": "stream",
          "name": "stdout",
          "text": [
            "Precision: 0.811 / Recall: 0.841 / Accuracy: 0.838\n"
          ]
        }
      ]
    },
    {
      "cell_type": "markdown",
      "source": [
        "Naive Bayes without features"
      ],
      "metadata": {
        "id": "owyaSm35TONa"
      }
    },
    {
      "cell_type": "code",
      "source": [
        "X_train, X_test, y_train, y_test = train_test_split(X, y, test_size=0.2, random_state=43)\n",
        "\n",
        "vectorizer = CountVectorizer(ngram_range=(1, 4))\n",
        "X_train_vec = vectorizer.fit_transform(X_train)\n",
        "X_test_vec = vectorizer.transform(X_test)\n",
        "\n",
        "classifier = MultinomialNB()\n",
        "classifier.fit(X_train_vec, y_train)\n",
        "\n",
        "y_pred = classifier.predict(X_test_vec)\n",
        "\n",
        "scores(y_test, y_pred)"
      ],
      "metadata": {
        "colab": {
          "base_uri": "https://localhost:8080/"
        },
        "id": "kO03-Ak1TI41",
        "outputId": "63b0e151-d051-40f1-ff97-acd352e400c5"
      },
      "execution_count": null,
      "outputs": [
        {
          "output_type": "stream",
          "name": "stdout",
          "text": [
            "Precision: 0.821 / Recall: 0.787 / Accuracy: 0.827\n"
          ]
        }
      ]
    },
    {
      "cell_type": "markdown",
      "source": [
        "Naive Bayes with corpus features"
      ],
      "metadata": {
        "id": "YH7kmXb7H8zZ"
      }
    },
    {
      "cell_type": "code",
      "source": [
        "v_unigram = [instance['keywords'][0] for instance in data]\n",
        "p_unigram = [instance['keywords'][2] for instance in data]\n",
        "n1_unigram = [instance['keywords'][1] for instance in data]\n",
        "n2_unigram = [instance['keywords'][3] for instance in data]\n",
        "\n",
        "vp_bigram = [' '.join([instance['keywords'][0], instance['keywords'][2]]) for instance in data]\n",
        "n1p_bigram = [' '.join(instance['keywords'][1:3]) for instance in data]\n",
        "pn2_bigram = [' '.join(instance['keywords'][2:]) for instance in data]\n",
        "\n",
        "vn1p_trigram = [' '.join(instance['keywords'][:3]) for instance in data]\n",
        "vpn2_trigram = [' '.join([instance['keywords'][0], instance['keywords'][2], instance['keywords'][3]]) for instance in data]\n",
        "n1pn2_trigram = [' '.join(instance['keywords'][1:]) for instance in data]\n",
        "\n",
        "vnpn2_4gram = [' '.join(instance['keywords']) for instance in data]\n",
        "\n",
        "big_corpus = ' '.join(brown.words())"
      ],
      "metadata": {
        "id": "hv0WLjbLM4h9"
      },
      "execution_count": null,
      "outputs": []
    },
    {
      "cell_type": "code",
      "source": [
        "vp_in_corpus = [str(len(re.findall(bigram, big_corpus))) for bigram in vp_bigram]"
      ],
      "metadata": {
        "id": "J1aUJK9DcqzS"
      },
      "execution_count": null,
      "outputs": []
    },
    {
      "cell_type": "code",
      "source": [
        "n1p_in_corpus = [str(len(re.findall(bigram, big_corpus))) for bigram in n1p_bigram]"
      ],
      "metadata": {
        "id": "m1ICNHh5TuNU"
      },
      "execution_count": null,
      "outputs": []
    },
    {
      "cell_type": "code",
      "source": [
        "n1pn2_in_corpus = [str(len(re.findall(trigram, big_corpus))) for trigram in n1pn2_trigram]"
      ],
      "metadata": {
        "id": "pqDJhVB_knAq"
      },
      "execution_count": null,
      "outputs": []
    },
    {
      "cell_type": "code",
      "source": [
        "vpn2_in_corpus = [str(len(re.findall(trigram, big_corpus))) for trigram in vpn2_trigram]"
      ],
      "metadata": {
        "id": "OOljrxnBeVId"
      },
      "execution_count": null,
      "outputs": []
    },
    {
      "cell_type": "code",
      "source": [
        "X_combined = [\n",
        "    ', '.join(features) for features in zip(\n",
        "    v_unigram, n1_unigram, p_unigram, n2_unigram,\n",
        "    vp_bigram, n1p_bigram, pn2_bigram,\n",
        "    vn1p_trigram, vpn2_trigram, n1pn2_trigram,\n",
        "    vnpn2_4gram\n",
        "    )\n",
        "]\n",
        "X_combined_with_corpus_features = [\n",
        "    ', '.join(features) for features in zip(\n",
        "        X_combined, vp_in_corpus, n1p_in_corpus, n1pn2_in_corpus, vpn2_in_corpus\n",
        "    )\n",
        "]"
      ],
      "metadata": {
        "id": "_WC1eThl_T_5"
      },
      "execution_count": null,
      "outputs": []
    },
    {
      "cell_type": "code",
      "source": [
        "X_train, X_test, y_train, y_test = train_test_split(X_combined_with_corpus_features, y, test_size=0.2, random_state=43)\n",
        "\n",
        "vectorizer = CountVectorizer(ngram_range=(1, 4))\n",
        "X_train_vec = vectorizer.fit_transform(X_train)\n",
        "X_test_vec = vectorizer.transform(X_test)\n",
        "\n",
        "classifier = MultinomialNB()\n",
        "classifier.fit(X_train_vec, y_train)\n",
        "\n",
        "y_pred = classifier.predict(X_test_vec)\n",
        "\n",
        "scores(y_test, y_pred)"
      ],
      "metadata": {
        "colab": {
          "base_uri": "https://localhost:8080/"
        },
        "id": "ouyvZW6MnP-5",
        "outputId": "94857c31-ee4f-4271-8599-243b886549e1"
      },
      "execution_count": null,
      "outputs": [
        {
          "output_type": "stream",
          "name": "stdout",
          "text": [
            "Precision: 0.784 / Recall: 0.828 / Accuracy: 0.82\n"
          ]
        }
      ]
    },
    {
      "cell_type": "markdown",
      "source": [
        "Naive Bayes with cosine similarity features"
      ],
      "metadata": {
        "id": "-1t94NF_TraW"
      }
    },
    {
      "cell_type": "code",
      "source": [
        "sentences = [sentence.split() for sentence in X]\n",
        "model = gensim.models.Word2Vec(sentences, min_count=1, vector_size=100, window=5)"
      ],
      "metadata": {
        "id": "1Pd82SDp9Ddx"
      },
      "execution_count": null,
      "outputs": []
    },
    {
      "cell_type": "code",
      "source": [
        "def cos(string):\n",
        "  verb, noun1, prep, noun2 = string.split()\n",
        "  vp = model.wv.similarity(verb, prep)\n",
        "  vn1 = model.wv.similarity(verb, noun1)\n",
        "  vn2 = model.wv.similarity(verb, noun2)\n",
        "\n",
        "  n1p = model.wv.similarity(noun1, prep)\n",
        "  n1n2 = model.wv.similarity(noun1, noun2)\n",
        "\n",
        "  pn2 = model.wv.similarity(prep, noun2)\n",
        "  return \", \".join(str(i) for i in[string, vp, vn1, vn2, n1p, n1n2, pn2])\n",
        "\n",
        "X_features = [cos(x) for x in X]"
      ],
      "metadata": {
        "id": "v-TbgWQfGFE3"
      },
      "execution_count": null,
      "outputs": []
    },
    {
      "cell_type": "code",
      "source": [
        "X_train, X_test, y_train, y_test = train_test_split(X_features, y, test_size=0.2, random_state=42)"
      ],
      "metadata": {
        "id": "ZWKKUcUBGKI7"
      },
      "execution_count": null,
      "outputs": []
    },
    {
      "cell_type": "code",
      "source": [
        "vectorizer = CountVectorizer()\n",
        "X_train_vec = vectorizer.fit_transform(X_train)\n",
        "X_test_vec = vectorizer.transform(X_test)\n",
        "\n",
        "classifier = MultinomialNB()\n",
        "classifier.fit(X_train_vec, y_train)\n",
        "\n",
        "y_pred = classifier.predict(X_test_vec)\n",
        "\n",
        "scores(y_test, y_pred)"
      ],
      "metadata": {
        "colab": {
          "base_uri": "https://localhost:8080/"
        },
        "id": "17y-930MHPXH",
        "outputId": "6a12671d-b32e-4e57-f77d-644b50bdc951"
      },
      "execution_count": null,
      "outputs": [
        {
          "output_type": "stream",
          "name": "stdout",
          "text": [
            "Precision: 0.831 / Recall: 0.794 / Accuracy: 0.832\n"
          ]
        }
      ]
    },
    {
      "cell_type": "markdown",
      "source": [
        "Decision Tree without features"
      ],
      "metadata": {
        "id": "QlrN69SoXSpI"
      }
    },
    {
      "cell_type": "code",
      "source": [
        "X_train, X_test, y_train, y_test = train_test_split(X, y, test_size=0.2, random_state=42)\n",
        "\n",
        "vectorizer = CountVectorizer(ngram_range=(1, 4))\n",
        "X_train_vec = vectorizer.fit_transform(X_train)\n",
        "X_test_vec = vectorizer.transform(X_test)\n",
        "\n",
        "classifier = DecisionTreeClassifier()\n",
        "classifier.fit(X_train_vec, y_train)\n",
        "\n",
        "y_pred = classifier.predict(X_test_vec)\n",
        "\n",
        "scores(y_test, y_pred)"
      ],
      "metadata": {
        "colab": {
          "base_uri": "https://localhost:8080/"
        },
        "id": "YJ5Q-jEfW09w",
        "outputId": "61ba2eac-5ae4-4374-ac94-e2f086b1dba1"
      },
      "execution_count": null,
      "outputs": [
        {
          "output_type": "stream",
          "name": "stdout",
          "text": [
            "Precision: 0.79 / Recall: 0.831 / Accuracy: 0.822\n"
          ]
        }
      ]
    }
  ]
}